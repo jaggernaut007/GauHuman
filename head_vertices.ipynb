{
 "cells": [
  {
   "cell_type": "code",
   "execution_count": 4,
   "id": "4d62be42-239c-4205-988c-8d398aace10c",
   "metadata": {},
   "outputs": [
    {
     "name": "stdout",
     "output_type": "stream",
     "text": [
      "Requirement already satisfied: pandas in /home/shreyas/anaconda3/envs/delta/lib/python3.9/site-packages (2.2.2)\n",
      "Requirement already satisfied: numpy>=1.22.4 in /home/shreyas/anaconda3/envs/delta/lib/python3.9/site-packages (from pandas) (1.23.1)\n",
      "Requirement already satisfied: python-dateutil>=2.8.2 in /home/shreyas/anaconda3/envs/delta/lib/python3.9/site-packages (from pandas) (2.9.0.post0)\n",
      "Requirement already satisfied: pytz>=2020.1 in /home/shreyas/anaconda3/envs/delta/lib/python3.9/site-packages (from pandas) (2024.1)\n",
      "Requirement already satisfied: tzdata>=2022.7 in /home/shreyas/anaconda3/envs/delta/lib/python3.9/site-packages (from pandas) (2024.1)\n",
      "Requirement already satisfied: six>=1.5 in /home/shreyas/anaconda3/envs/delta/lib/python3.9/site-packages (from python-dateutil>=2.8.2->pandas) (1.16.0)\n",
      "Requirement already satisfied: numpy in /home/shreyas/anaconda3/envs/delta/lib/python3.9/site-packages (1.23.1)\n"
     ]
    }
   ],
   "source": [
    "!pip install pandas\n",
    "!pip install numpy"
   ]
  },
  {
   "cell_type": "code",
   "execution_count": 5,
   "id": "3179231f-a6f5-4244-955e-9651535c0adb",
   "metadata": {},
   "outputs": [],
   "source": [
    "from smpl.smpl_numpy import SMPL \n",
    "\n",
    "smpl_model = SMPL(sex='neutral', model_dir='assets/SMPL_NEUTRAL.pkl')\n",
    "# v_sel = smpl_model.vertex_joint_selector \n",
    "\n",
    "\n",
    "\n",
    "\n",
    "\n"
   ]
  },
  {
   "cell_type": "code",
   "execution_count": 10,
   "id": "e41abd9a-313b-47aa-8ed5-7fd09ad266be",
   "metadata": {},
   "outputs": [],
   "source": [
    "    import pandas as pd\n",
    "    import numpy as np\n",
    "    # SMPL in canonical space\n",
    "    big_pose_smpl_param = {}\n",
    "    big_pose_smpl_param['R'] = np.eye(3).astype(np.float32)\n",
    "    big_pose_smpl_param['Th'] = np.zeros((1,3)).astype(np.float32)\n",
    "    big_pose_smpl_param['shapes'] = np.zeros((1,10)).astype(np.float32)\n",
    "    big_pose_smpl_param['poses'] = np.zeros((1,72)).astype(np.float32)\n",
    "    big_pose_smpl_param['poses'][0, 5] = 45/180*np.array(np.pi)\n",
    "    big_pose_smpl_param['poses'][0, 8] = -45/180*np.array(np.pi)\n",
    "    big_pose_smpl_param['poses'][0, 23] = -30/180*np.array(np.pi)\n",
    "    big_pose_smpl_param['poses'][0, 26] = 30/180*np.array(np.pi)\n",
    "\n",
    "    big_pose_xyz, x = smpl_model(big_pose_smpl_param['poses'], big_pose_smpl_param['shapes'].reshape(-1))\n",
    "    big_pose_xyz = (np.matmul(big_pose_xyz, big_pose_smpl_param['R'].transpose()) + big_pose_smpl_param['Th']).astype(np.float32)\n",
    "\n",
    "    # obtain the original bounds for point sampling\n",
    "    big_pose_min_xyz = np.min(big_pose_xyz, axis=0)\n",
    "    big_pose_max_xyz = np.max(big_pose_xyz, axis=0)\n",
    "    big_pose_min_xyz -= 0.05\n",
    "    big_pose_max_xyz += 0.05\n",
    "    big_pose_world_bound = np.stack([big_pose_min_xyz, big_pose_max_xyz], axis=0)"
   ]
  },
  {
   "cell_type": "code",
   "execution_count": 11,
   "id": "17eff575-abb1-4a0f-804e-759ea98510b9",
   "metadata": {},
   "outputs": [
    {
     "data": {
      "text/plain": [
       "<1x6890 sparse matrix of type '<class 'numpy.float64'>'\n",
       "\twith 27 stored elements in Compressed Sparse Column format>"
      ]
     },
     "execution_count": 11,
     "metadata": {},
     "output_type": "execute_result"
    }
   ],
   "source": [
    "obj = 'assets/SMPL_NEUTRAL.pkl'\n",
    "\n",
    "\n",
    "obj_smpl = pd.read_pickle('assets/SMPL_NEUTRAL.pkl')\n",
    "obj_smpl.get('J_regressor')[0][0]"
   ]
  },
  {
   "cell_type": "code",
   "execution_count": 12,
   "id": "ebba8505-dbc9-4dc2-8030-8f132669d61a",
   "metadata": {},
   "outputs": [
    {
     "data": {
      "text/plain": [
       "dict_values([332, 6260, 2800, 4071, 583])"
      ]
     },
     "execution_count": 12,
     "metadata": {},
     "output_type": "execute_result"
    }
   ],
   "source": [
    "# obj_smpl.get('J')\n",
    "face= {\n",
    "        'nose': 332,\n",
    "        'reye': 6260,\n",
    "        'leye': 2800,\n",
    "        'rear':\t4071,\n",
    "        'lear':\t583,\n",
    "}\n",
    "face.values()"
   ]
  },
  {
   "cell_type": "code",
   "execution_count": 17,
   "id": "900a729a-c6eb-4457-b3a2-2af785066bf1",
   "metadata": {},
   "outputs": [
    {
     "name": "stdout",
     "output_type": "stream",
     "text": [
      "[[ 0.00242026  0.41171256  0.1370538 ]\n",
      " [-0.03157485  0.44699487  0.09797596]\n",
      " [ 0.03461343  0.4475619   0.09933882]\n",
      " [-0.07265673  0.41884518  0.00539076]\n",
      " [ 0.07415988  0.42008573  0.00802347]]\n"
     ]
    }
   ],
   "source": [
    "# obj_smpl.get('J')\n",
    "face= {\n",
    "        'nose': 332,\n",
    "        'reye': 6260,\n",
    "        'leye': 2800,\n",
    "        'rear':\t4071,\n",
    "        'lear':\t583,\n",
    "}\n",
    "# Extract the indices from the face dictionary\n",
    "indices = np.array(list(face.values()))\n",
    "\n",
    "# Use the indices to directly get the corresponding rows from big_pose_xyz\n",
    "face_xyz = big_pose_xyz[indices]\n",
    "\n",
    "# Print the result\n",
    "print(face_xyz)"
   ]
  },
  {
   "cell_type": "code",
   "execution_count": 20,
   "id": "0710a080-536c-4af8-80f8-2a1692627c34",
   "metadata": {},
   "outputs": [
    {
     "name": "stdout",
     "output_type": "stream",
     "text": [
      "(1000, 3)\n"
     ]
    }
   ],
   "source": [
    "        ###############################**********************########################################## change 2 \n",
    "        \n",
    "        # obtain the original bounds for dense point sampling on the face\n",
    "        xyz_face_min_xyz = np.min(face_xyz, axis=0)\n",
    "        xyz_face_max_xyz = np.max(face_xyz, axis=0)\n",
    "        xyz_face_min_xyz -= 0.05\n",
    "        xyz_face_max_xyz += 0.05\n",
    "        # xyz_face_world_bound = np.stack([xyz_face_min_xyz, xyz_face_max_xyz], axis=0)\n",
    "        \n",
    "\n",
    "        xyz2 = np.append(face_xyz,big_pose_xyz,axis=0)\n",
    "        # xyz2 = np.append(xyz_hand,xyz2,axis=0)\n",
    "\n",
    "        # Define the number of points along each axis (resolution of the grid)\n",
    "        num_points = 10  # For example, 10 points along each axis\n",
    "        \n",
    "        # Create a grid of points within the bounding box\n",
    "        x = np.linspace(xyz_face_min_xyz[0], xyz_face_max_xyz[0], num_points)\n",
    "        y = np.linspace(xyz_face_min_xyz[1], xyz_face_max_xyz[1], num_points)\n",
    "        z = np.linspace(xyz_face_min_xyz[2], xyz_face_max_xyz[2], num_points)\n",
    "\n",
    "        # Generate all combinations of x, y, z\n",
    "        X, Y, Z = np.meshgrid(x, y, z)\n",
    "        # Reshape the grid to get a flat list of 3D points\n",
    "        xyz2 = np.vstack([X.ravel(), Y.ravel(), Z.ravel()]).T\n",
    "        print(xyz2.shape)\n",
    "    \n",
    "        ###############################**********************########################################## change 2 "
   ]
  },
  {
   "cell_type": "code",
   "execution_count": 21,
   "id": "13d17f42-67d5-4377-b0f7-9608774d422d",
   "metadata": {},
   "outputs": [
    {
     "name": "stdout",
     "output_type": "stream",
     "text": [
      "[[-0.12265673  0.36171255 -0.04460924]\n",
      " [-0.12265673  0.36171255 -0.0188689 ]\n",
      " [-0.12265673  0.36171255  0.00687144]\n",
      " ...\n",
      " [ 0.12415989  0.4975619   0.13557312]\n",
      " [ 0.12415989  0.4975619   0.16131346]\n",
      " [ 0.12415989  0.4975619   0.1870538 ]]\n",
      "done!\n"
     ]
    }
   ],
   "source": [
    "print(xyz2\n",
    "     )\n",
    "\n",
    "print(\"done!\")"
   ]
  },
  {
   "cell_type": "code",
   "execution_count": 167,
   "id": "af1ea988-5e92-47a9-b06d-4527b4e462b2",
   "metadata": {},
   "outputs": [],
   "source": [
    "    # obtain the original bounds for point sampling\n",
    "    face_xyz_max_xyz = np.max(face_xyz, axis=0)\n",
    "    face_xyz_min_xyz = np.min(face_xyz, axis=0)\n",
    "    face_xyz_min_xyz -= 0.05\n",
    "    face_xyz_max_xyz += 0.05\n",
    "    face_xyz_world_bound = np.stack([face_xyz_min_xyz, face_xyz_max_xyz], axis=0)"
   ]
  },
  {
   "cell_type": "code",
   "execution_count": 168,
   "id": "1c777168-5422-42ac-9158-837fb5654ff9",
   "metadata": {},
   "outputs": [
    {
     "data": {
      "text/plain": [
       "array([[-0.12265673,  0.36171255, -0.04460924],\n",
       "       [ 0.12415989,  0.4975619 ,  0.1870538 ]], dtype=float32)"
      ]
     },
     "execution_count": 168,
     "metadata": {},
     "output_type": "execute_result"
    }
   ],
   "source": [
    "face_xyz_world_bound"
   ]
  },
  {
   "cell_type": "code",
   "execution_count": 197,
   "id": "9a8fcd7b-1763-4371-b5c8-79bac3e298d5",
   "metadata": {},
   "outputs": [],
   "source": [
    "xyz = big_pose_xyz\n",
    "xyz2 = np.append(face_xyz,xyz,axis=0)\n",
    "for x in range(1000):\n",
    "    xyz2 = np.append(face_xyz,xyz2,axis=0)"
   ]
  },
  {
   "cell_type": "code",
   "execution_count": 198,
   "id": "6229dea6-1292-4334-8f52-c23d38333004",
   "metadata": {},
   "outputs": [
    {
     "name": "stdout",
     "output_type": "stream",
     "text": [
      "(6890, 3) (11895, 3) (5, 3)\n"
     ]
    }
   ],
   "source": [
    "print(xyz.shape ,xyz2.shape,face_xyz.shape)"
   ]
  },
  {
   "cell_type": "code",
   "execution_count": 199,
   "id": "11f9257f-7170-40d7-973d-f28d492085fd",
   "metadata": {},
   "outputs": [
    {
     "data": {
      "text/plain": [
       "11895"
      ]
     },
     "execution_count": 199,
     "metadata": {},
     "output_type": "execute_result"
    }
   ],
   "source": [
    "xyz2.shape[0]"
   ]
  },
  {
   "cell_type": "code",
   "execution_count": null,
   "id": "69e26643-cf25-4e21-b45a-0194933f01d2",
   "metadata": {},
   "outputs": [],
   "source": []
  }
 ],
 "metadata": {
  "kernelspec": {
   "display_name": "Python [conda env:delta]",
   "language": "python",
   "name": "conda-env-delta-py"
  },
  "language_info": {
   "codemirror_mode": {
    "name": "ipython",
    "version": 3
   },
   "file_extension": ".py",
   "mimetype": "text/x-python",
   "name": "python",
   "nbconvert_exporter": "python",
   "pygments_lexer": "ipython3",
   "version": "3.9.19"
  }
 },
 "nbformat": 4,
 "nbformat_minor": 5
}
